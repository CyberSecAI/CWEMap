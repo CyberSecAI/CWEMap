{
 "cells": [
  {
   "cell_type": "code",
   "execution_count": 1,
   "metadata": {},
   "outputs": [
    {
     "name": "stderr",
     "output_type": "stream",
     "text": [
      "/home/chris/work/CyberSecAI/CWEMap/LLM/lib/python3.12/site-packages/tqdm/auto.py:21: TqdmWarning: IProgress not found. Please update jupyter and ipywidgets. See https://ipywidgets.readthedocs.io/en/stable/user_install.html\n",
      "  from .autonotebook import tqdm as notebook_tqdm\n"
     ]
    }
   ],
   "source": [
    "from crewai import Agent, Task, Crew, Process\n",
    "from langchain_openai import ChatOpenAI\n",
    "from typing import List\n",
    "import asyncio\n",
    "\n",
    "from dotenv import dotenv_values\n",
    "from dotenv import load_dotenv\n",
    "import os\n"
   ]
  },
  {
   "cell_type": "code",
   "execution_count": 2,
   "metadata": {},
   "outputs": [
    {
     "ename": "KeyError",
     "evalue": "'OPENAI_API_KEY'",
     "output_type": "error",
     "traceback": [
      "\u001b[0;31m---------------------------------------------------------------------------\u001b[0m",
      "\u001b[0;31mKeyError\u001b[0m                                  Traceback (most recent call last)",
      "Cell \u001b[0;32mIn[2], line 7\u001b[0m\n\u001b[1;32m      4\u001b[0m config \u001b[38;5;241m=\u001b[39m dotenv_values(\u001b[38;5;124m\"\u001b[39m\u001b[38;5;124m.env\u001b[39m\u001b[38;5;124m\"\u001b[39m)\n\u001b[1;32m      6\u001b[0m \u001b[38;5;66;03m# Set up API keys (replace with your actual API keys)\u001b[39;00m\n\u001b[0;32m----> 7\u001b[0m os\u001b[38;5;241m.\u001b[39menviron[\u001b[38;5;124m\"\u001b[39m\u001b[38;5;124mOPENAI_API_KEY\u001b[39m\u001b[38;5;124m\"\u001b[39m] \u001b[38;5;241m=\u001b[39m \u001b[43mconfig\u001b[49m\u001b[43m[\u001b[49m\u001b[38;5;124;43m'\u001b[39;49m\u001b[38;5;124;43mOPENAI_API_KEY\u001b[39;49m\u001b[38;5;124;43m'\u001b[39;49m\u001b[43m]\u001b[49m\n\u001b[1;32m      8\u001b[0m \u001b[38;5;66;03m#os.environ[\"ANTHROPIC_API_KEY\"] = config['ANTHROPIC_API_KEY']\u001b[39;00m\n\u001b[1;32m      9\u001b[0m \u001b[38;5;66;03m#os.environ[\"GOOGLE_API_KEY\"] = config['GOOGLE_API_KEY']\u001b[39;00m\n\u001b[1;32m     10\u001b[0m \n\u001b[0;32m   (...)\u001b[0m\n\u001b[1;32m     13\u001b[0m \u001b[38;5;66;03m#OPENAI_API_KEY=config['OPENAI_API_KEY']\u001b[39;00m\n\u001b[1;32m     14\u001b[0m \u001b[38;5;66;03m#ANTHROPIC_API_KEY=config['ANTHROPIC_API_KEY']\u001b[39;00m\n",
      "\u001b[0;31mKeyError\u001b[0m: 'OPENAI_API_KEY'"
     ]
    }
   ],
   "source": [
    "# load .env file to environment\n",
    "load_dotenv()\n",
    "\n",
    "config = dotenv_values(\"../.env\")\n",
    "\n",
    "# Set up API keys (replace with your actual API keys)\n",
    "os.environ[\"OPENAI_API_KEY\"] = config['OPENAI_API_KEY']\n",
    "#os.environ[\"ANTHROPIC_API_KEY\"] = config['ANTHROPIC_API_KEY']\n",
    "#os.environ[\"GOOGLE_API_KEY\"] = config['GOOGLE_API_KEY']\n",
    "\n",
    "#If using env vars\n",
    "#GOOGLE_API_KEY=config['GOOGLE_API_KEY']\n",
    "#OPENAI_API_KEY=config['OPENAI_API_KEY']\n",
    "#ANTHROPIC_API_KEY=config['ANTHROPIC_API_KEY']"
   ]
  },
  {
   "cell_type": "code",
   "execution_count": null,
   "metadata": {},
   "outputs": [
    {
     "name": "stderr",
     "output_type": "stream",
     "text": [
      "2024-09-06 23:19:05,780 - 133913154994496 - __init__.py-__init__:538 - WARNING: Overriding of current TracerProvider is not allowed\n"
     ]
    },
    {
     "name": "stdout",
     "output_type": "stream",
     "text": [
      "Final Vulnerability Analysis Report:\n",
      "Vulnerability Report\n",
      "\n",
      "Vulnerability Overview:\n",
      "The vulnerability in XYZ software, identified as CVE-2021-1234, is a critical buffer overflow issue with a CVSS score of 9.8. This vulnerability allows remote attackers to execute arbitrary code by sending specially crafted input to the software. Another vulnerability, CVE-2020-5678, also affects XYZ software and has a CVSS score of 7.5. This vulnerability is also a buffer overflow issue that can be exploited by remote attackers to execute arbitrary code.\n",
      "\n",
      "Analysis of CVEs:\n",
      "CVE-2021-1234 poses a significant risk due to its high CVSS score, indicating a critical vulnerability that could result in severe consequences if exploited. The ability for remote attackers to execute arbitrary code can lead to unauthorized access, data breaches, and system compromise. On the other hand, CVE-2020-5678, while still a serious vulnerability, has a lower CVSS score compared to CVE-2021-1234. However, it still presents a threat to the security of the XYZ software and should be addressed promptly.\n",
      "\n",
      "Potential Impact:\n",
      "If these vulnerabilities are not addressed, there is a high risk of unauthorized access to sensitive information, data manipulation, and disruption of services. The exploitation of these vulnerabilities could lead to financial losses, reputational damage, and legal consequences for the affected organization. It is crucial to take immediate action to mitigate these risks and secure the XYZ software against potential attacks.\n",
      "\n",
      "Recommendations for Mitigation:\n",
      "1. Patch Management: Ensure that all patches and updates for the XYZ software are applied promptly to address known vulnerabilities, including CVE-2021-1234 and CVE-2020-5678.\n",
      "2. Network Segmentation: Implement network segmentation to limit the impact of potential attacks and prevent unauthorized access to critical systems.\n",
      "3. Intrusion Detection Systems: Deploy intrusion detection systems to monitor network traffic for signs of exploitation attempts related to buffer overflow vulnerabilities.\n",
      "4. Security Awareness Training: Provide security awareness training to employees to educate them on the risks associated with buffer overflow vulnerabilities and how to report suspicious activities.\n",
      "\n",
      "It is essential for the organization to prioritize cybersecurity measures and address these vulnerabilities to protect the integrity and confidentiality of their systems and data. Failure to do so could result in severe consequences and compromise the overall security posture of the organization.\n"
     ]
    }
   ],
   "source": [
    "\n",
    "\n",
    "# Initialize the language model\n",
    "llm = ChatOpenAI(temperature=0)\n",
    "\n",
    "# Define the agents\n",
    "keyphrases_extractor = Agent(\n",
    "    role='Keyphrases Extractor',\n",
    "    goal='Extract key phrases from vulnerability descriptions',\n",
    "    backstory='You are an expert in cybersecurity language and can identify crucial elements in vulnerability descriptions.',\n",
    "    allow_delegation=False,\n",
    "    llm=llm\n",
    ")\n",
    "\n",
    "cwe_observer = Agent(\n",
    "    role='CWE Observer',\n",
    "    goal='Find CVEs with similar weakness keyphrases from CWE Observed Examples',\n",
    "    backstory='You have extensive knowledge of Common Weakness Enumeration (CWE) and can identify related CVEs.',\n",
    "    allow_delegation=False,\n",
    "    llm=llm\n",
    ")\n",
    "\n",
    "top25_cwe_analyst = Agent(\n",
    "    role='Top 25 CWE Analyst',\n",
    "    goal='Identify CVEs with similar weakness keyphrases from Top 25 CWE Mappings',\n",
    "    backstory='You specialize in the OWASP Top 25 Common Weakness Enumeration and can find relevant CVEs.',\n",
    "    allow_delegation=False,\n",
    "    llm=llm\n",
    ")\n",
    "\n",
    "nvd_researcher = Agent(\n",
    "    role='NVD Researcher',\n",
    "    goal='Discover CVEs with similar weakness keyphrases from the National Vulnerability Database',\n",
    "    backstory='You are an expert in navigating the National Vulnerability Database and can find pertinent CVEs.',\n",
    "    allow_delegation=False,\n",
    "    llm=llm\n",
    ")\n",
    "\n",
    "report_creator = Agent(\n",
    "    role='Report Creator',\n",
    "    goal='Create a comprehensive vulnerability report',\n",
    "    backstory='You are skilled in synthesizing information from various sources to create detailed cybersecurity reports.',\n",
    "    allow_delegation=False,\n",
    "    llm=llm\n",
    ")\n",
    "\n",
    "report_reviewer = Agent(\n",
    "    role='Report Reviewer',\n",
    "    goal='Review and improve the vulnerability report',\n",
    "    backstory='You have years of experience in reviewing and enhancing cybersecurity reports, ensuring they are accurate and actionable.',\n",
    "    allow_delegation=False,\n",
    "    llm=llm\n",
    ")\n",
    "\n",
    "# Define the tasks\n",
    "def create_tasks(vulnerability_description: str) -> List[Task]:\n",
    "    return [\n",
    "        Task(\n",
    "            description=f\"Extract key phrases from the following vulnerability description: {vulnerability_description}\",\n",
    "            expected_output=\"A list of key phrases that accurately represent the core aspects of the vulnerability.\",\n",
    "            output_file=\"task1output.txt\",\n",
    "            agent=keyphrases_extractor,\n",
    "        ),\n",
    "        Task(\n",
    "            description=\"Find CVEs with similar weakness keyphrases from CWE Observed Examples using the extracted key phrases.\",\n",
    "            expected_output=\"A list of relevant CVEs from CWE Observed Examples, including their IDs and brief descriptions.\",\n",
    "            output_file=\"task2output.txt\",\n",
    "            agent=cwe_observer,\n",
    "        ),\n",
    "        Task(\n",
    "            description=\"Identify CVEs with similar weakness keyphrases from Top 25 CWE Mappings using the extracted key phrases.\",\n",
    "            expected_output=\"A list of relevant CVEs from Top 25 CWE Mappings, including their IDs, rankings, and brief descriptions.\",\n",
    "            output_file=\"task3output.txt\",\n",
    "            agent=top25_cwe_analyst,\n",
    "        ),\n",
    "        Task(\n",
    "            description=\"Discover CVEs with similar weakness keyphrases from the National Vulnerability Database using the extracted key phrases.\",\n",
    "            expected_output=\"A comprehensive list of relevant CVEs from the NVD, including their IDs, CVSS scores, and brief descriptions.\",\n",
    "            output_file=\"task4output.txt\",\n",
    "            agent=nvd_researcher,\n",
    "        ),\n",
    "        Task(\n",
    "            description=\"Create a comprehensive report based on the vulnerability description, extracted key phrases, and identified CVEs from all sources.\",\n",
    "            expected_output=\"A detailed report that includes an overview of the vulnerability, analysis of related CVEs, potential impact, and initial recommendations for mitigation.\",\n",
    "            output_file=\"task5output.txt\",\n",
    "            agent=report_creator,\n",
    "        ),\n",
    "        Task(\n",
    "            description=\"Review the created report, provide feedback, and improve it if necessary.\",\n",
    "            expected_output=\"A final, polished report that incorporates any necessary improvements, ensures accuracy, and provides actionable insights for addressing the vulnerability.\",\n",
    "            output_file=\"task6output.txt\",\n",
    "            agent=report_reviewer,\n",
    "        )\n",
    "    ]\n",
    "\n",
    "# Main function to run the vulnerability analysis\n",
    "def analyze_vulnerability(vulnerability_description: str) -> str:\n",
    "    tasks = create_tasks(vulnerability_description)\n",
    "    vulnerability_analysis_crew = Crew(\n",
    "        agents=[keyphrases_extractor, cwe_observer, top25_cwe_analyst, nvd_researcher, report_creator, report_reviewer],\n",
    "        tasks=tasks,\n",
    "        process=Process.sequential\n",
    "    )\n",
    "    result = vulnerability_analysis_crew.kickoff()\n",
    "    return result\n",
    "\n",
    "# Example usage\n",
    "if __name__ == \"__main__\":\n",
    "    vulnerability_description = \"A buffer overflow vulnerability in the XYZ software allows remote attackers to execute arbitrary code.\"\n",
    "    final_report = analyze_vulnerability(vulnerability_description)\n",
    "    print(\"Final Vulnerability Analysis Report:\")\n",
    "    print(final_report)"
   ]
  }
 ],
 "metadata": {
  "kernelspec": {
   "display_name": "LLM",
   "language": "python",
   "name": "python3"
  },
  "language_info": {
   "codemirror_mode": {
    "name": "ipython",
    "version": 3
   },
   "file_extension": ".py",
   "mimetype": "text/x-python",
   "name": "python",
   "nbconvert_exporter": "python",
   "pygments_lexer": "ipython3",
   "version": "3.12.3"
  }
 },
 "nbformat": 4,
 "nbformat_minor": 2
}
