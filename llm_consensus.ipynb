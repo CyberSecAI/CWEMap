{
 "cells": [
  {
   "cell_type": "markdown",
   "metadata": {},
   "source": [
    "# Get Consensus from 3 LLMs on CWE Assignment\n",
    "\n",
    "See https://cybersecai.github.io/Vulnrichment/Vulnrichment/ for context.\n",
    "\n",
    "To optimize API and token usage and stay within limits, CVE-CWE pairs are processed in batches of batch_size CVE-CWE pairs.\n",
    "\n",
    "This reduces the \n",
    "1. need to send the prompt for each CVE-CWE pair\n",
    "2. number of calls to the API\n",
    "   \n",
    "The number needs to be small enough such that the Rationale from multiple CVE-CWE pairs fits within the output token limit for the LLM.\n",
    "\n",
    "\n",
    "## LLM Info\n",
    "\n",
    "### JSON Mode info \n",
    "1. https://ai.google.dev/gemini-api/docs/json-mode?lang=python \n",
    "2. https://platform.openai.com/docs/guides/json-mode\n",
    "3. https://github.com/anthropics/anthropic-cookbook/blob/main/misc/how_to_enable_json_mode.ipynb \"Claude doesn't have a formal \"JSON Mode\" with constrained sampling.\"\n",
    "\n",
    "### Usage / Plan\n",
    "1. OpenAI\n",
    "   1. https://platform.openai.com/account/usage\n",
    "   2. https://platform.openai.com/docs/guides/rate-limits/usage-tiers?context=tier-one\n",
    "2. Gemini\n",
    "   1. https://cloud.google.com/gemini/docs/quotas\n",
    "3. Claude\n",
    "   1. https://support.anthropic.com/en/articles/8324991-about-claude-pro-usage\n",
    "   2. https://support.anthropic.com/en/articles/8325614-how-can-i-maximize-my-claude-pro-usage\n",
    "   3. https://console.anthropic.com/settings/plans\n",
    "   4. https://console.anthropic.com/settings/limits\n",
    "   \n",
    "\n",
    "### References\n",
    "1. https://python.langchain.com/v0.1/docs/integrations/chat/openai/\n",
    "2. https://claude3.pro/claude-3-5-sonnet-with-langchain/\n",
    "3. https://python.langchain.com/v0.2/docs/integrations/chat/google_generative_ai/"
   ]
  },
  {
   "cell_type": "code",
   "execution_count": 1,
   "metadata": {},
   "outputs": [],
   "source": [
    "#!pip install langchain_openai langchain_google_genai langchain_anthropic langchain"
   ]
  },
  {
   "cell_type": "code",
   "execution_count": 1,
   "metadata": {},
   "outputs": [],
   "source": [
    "import pandas as pd\n",
    "import json\n",
    "import csv\n",
    "import os\n",
    "from datetime import datetime\n",
    "from tqdm import tqdm\n",
    "\n",
    "from dotenv import dotenv_values\n",
    "from dotenv import load_dotenv\n",
    "\n",
    "from langchain_core.messages import HumanMessage, SystemMessage\n",
    "from langchain_core.prompts import ChatPromptTemplate\n",
    "\n",
    "from langchain_openai import ChatOpenAI\n",
    "from langchain_google_genai import ChatGoogleGenerativeAI\n",
    "from langchain_anthropic import ChatAnthropic\n",
    "\n",
    "from langchain.prompts import PromptTemplate\n",
    "from langchain.prompts.chat import ChatPromptTemplate\n",
    "from langchain.output_parsers import StructuredOutputParser, ResponseSchema\n",
    "from langchain.schema import AIMessage\n",
    "from concurrent.futures import ThreadPoolExecutor, as_completed"
   ]
  },
  {
   "cell_type": "code",
   "execution_count": 2,
   "metadata": {},
   "outputs": [],
   "source": [
    "cwe_only_cisa_adp_input_file_path = './data_out/extracted_cwe_info_cisa_adp_only.csv' # Entries with CWEs only\n",
    "llm_consensus_file_path = './data_out/llm_consensus.csv'\n",
    "batch_size=10 # number of entries per batch.  \n",
    "MAX_WORKERS=3 # threads\n"
   ]
  },
  {
   "cell_type": "code",
   "execution_count": 3,
   "metadata": {},
   "outputs": [],
   "source": [
    "\n",
    "# load .env file to environment\n",
    "load_dotenv()\n",
    "\n",
    "config = dotenv_values(\".env\")\n",
    "\n",
    "# Set up API keys (replace with your actual API keys)\n",
    "os.environ[\"OPENAI_API_KEY\"] = config['OPENAI_API_KEY']\n",
    "os.environ[\"ANTHROPIC_API_KEY\"] = config['ANTHROPIC_API_KEY']\n",
    "os.environ[\"GOOGLE_API_KEY\"] = config['GOOGLE_API_KEY']\n",
    "\n",
    "#If using env vars\n",
    "#GOOGLE_API_KEY=config['GOOGLE_API_KEY']\n",
    "#OPENAI_API_KEY=config['OPENAI_API_KEY']\n",
    "#ANTHROPIC_API_KEY=config['ANTHROPIC_API_KEY']\n"
   ]
  },
  {
   "cell_type": "code",
   "execution_count": 4,
   "metadata": {},
   "outputs": [],
   "source": [
    "# Read the CSV file\n",
    "try:\n",
    "    df = pd.read_csv(cwe_only_cisa_adp_input_file_path, quoting=csv.QUOTE_ALL, escapechar='\\\\') # safe CSV\n",
    "\n",
    "except FileNotFoundError:\n",
    "    print(\"Error: CSV file not found.\")\n",
    "    exit(1)"
   ]
  },
  {
   "cell_type": "code",
   "execution_count": 5,
   "metadata": {},
   "outputs": [
    {
     "data": {
      "text/html": [
       "<div>\n",
       "<style scoped>\n",
       "    .dataframe tbody tr th:only-of-type {\n",
       "        vertical-align: middle;\n",
       "    }\n",
       "\n",
       "    .dataframe tbody tr th {\n",
       "        vertical-align: top;\n",
       "    }\n",
       "\n",
       "    .dataframe thead th {\n",
       "        text-align: right;\n",
       "    }\n",
       "</style>\n",
       "<table border=\"1\" class=\"dataframe\">\n",
       "  <thead>\n",
       "    <tr style=\"text-align: right;\">\n",
       "      <th></th>\n",
       "      <th>cve_id</th>\n",
       "      <th>Container</th>\n",
       "      <th>adp_providerMetadata_orgId</th>\n",
       "      <th>adp_providerMetadata_shortName</th>\n",
       "      <th>adp_providerMetadata_dateUpdated</th>\n",
       "      <th>CVE_Description</th>\n",
       "      <th>cna_providerMetadata_orgId</th>\n",
       "      <th>cna_providerMetadata_shortName</th>\n",
       "      <th>cna_providerMetadata_dateUpdated</th>\n",
       "      <th>CWE_ID</th>\n",
       "      <th>CWE_Description</th>\n",
       "    </tr>\n",
       "  </thead>\n",
       "  <tbody>\n",
       "    <tr>\n",
       "      <th>0</th>\n",
       "      <td>CVE-2021-35559</td>\n",
       "      <td>adp</td>\n",
       "      <td>134c704f-9b21-4f2e-91b3-4a467353bcc0</td>\n",
       "      <td>CISA-ADP</td>\n",
       "      <td>2024-06-25T16:05:50.566Z</td>\n",
       "      <td>Vulnerability in the Java SE, Oracle GraalVM E...</td>\n",
       "      <td>NaN</td>\n",
       "      <td>NaN</td>\n",
       "      <td>NaN</td>\n",
       "      <td>CWE-400</td>\n",
       "      <td>CWE-400 Uncontrolled Resource Consumption</td>\n",
       "    </tr>\n",
       "    <tr>\n",
       "      <th>1</th>\n",
       "      <td>CVE-2021-26928</td>\n",
       "      <td>adp</td>\n",
       "      <td>134c704f-9b21-4f2e-91b3-4a467353bcc0</td>\n",
       "      <td>CISA-ADP</td>\n",
       "      <td>2024-05-01T15:18:46.280Z</td>\n",
       "      <td>BIRD through 2.0.7 does not provide functional...</td>\n",
       "      <td>NaN</td>\n",
       "      <td>NaN</td>\n",
       "      <td>NaN</td>\n",
       "      <td>CWE-306</td>\n",
       "      <td>CWE-306 Missing Authentication for Critical Fu...</td>\n",
       "    </tr>\n",
       "    <tr>\n",
       "      <th>2</th>\n",
       "      <td>CVE-2021-26918</td>\n",
       "      <td>adp</td>\n",
       "      <td>134c704f-9b21-4f2e-91b3-4a467353bcc0</td>\n",
       "      <td>CISA-ADP</td>\n",
       "      <td>2024-05-01T15:09:54.735Z</td>\n",
       "      <td>The ProBot bot through 2021-02-08 for Discord ...</td>\n",
       "      <td>NaN</td>\n",
       "      <td>NaN</td>\n",
       "      <td>NaN</td>\n",
       "      <td>CWE-434</td>\n",
       "      <td>CWE-434 Unrestricted Upload of File with Dange...</td>\n",
       "    </tr>\n",
       "    <tr>\n",
       "      <th>3</th>\n",
       "      <td>CVE-2021-34983</td>\n",
       "      <td>adp</td>\n",
       "      <td>134c704f-9b21-4f2e-91b3-4a467353bcc0</td>\n",
       "      <td>CISA-ADP</td>\n",
       "      <td>2024-05-08T15:08:02.757Z</td>\n",
       "      <td>NETGEAR Multiple Routers httpd Missing Authent...</td>\n",
       "      <td>NaN</td>\n",
       "      <td>NaN</td>\n",
       "      <td>NaN</td>\n",
       "      <td>CWE-120</td>\n",
       "      <td>CWE-120 Buffer Copy without Checking Size of I...</td>\n",
       "    </tr>\n",
       "    <tr>\n",
       "      <th>4</th>\n",
       "      <td>CVE-2021-33990</td>\n",
       "      <td>adp</td>\n",
       "      <td>134c704f-9b21-4f2e-91b3-4a467353bcc0</td>\n",
       "      <td>CISA-ADP</td>\n",
       "      <td>2024-07-12T15:32:38.330Z</td>\n",
       "      <td>Liferay Portal 6.2.5 allows Command=FileUpload...</td>\n",
       "      <td>NaN</td>\n",
       "      <td>NaN</td>\n",
       "      <td>NaN</td>\n",
       "      <td>CWE-78</td>\n",
       "      <td>CWE-78 Improper Neutralization of Special Elem...</td>\n",
       "    </tr>\n",
       "    <tr>\n",
       "      <th>...</th>\n",
       "      <td>...</td>\n",
       "      <td>...</td>\n",
       "      <td>...</td>\n",
       "      <td>...</td>\n",
       "      <td>...</td>\n",
       "      <td>...</td>\n",
       "      <td>...</td>\n",
       "      <td>...</td>\n",
       "      <td>...</td>\n",
       "      <td>...</td>\n",
       "      <td>...</td>\n",
       "    </tr>\n",
       "    <tr>\n",
       "      <th>1879</th>\n",
       "      <td>CVE-2024-37762</td>\n",
       "      <td>adp</td>\n",
       "      <td>134c704f-9b21-4f2e-91b3-4a467353bcc0</td>\n",
       "      <td>CISA-ADP</td>\n",
       "      <td>2024-07-08T15:13:35.601Z</td>\n",
       "      <td>MachForm up to version 21 is affected by an au...</td>\n",
       "      <td>NaN</td>\n",
       "      <td>NaN</td>\n",
       "      <td>NaN</td>\n",
       "      <td>CWE-434</td>\n",
       "      <td>CWE-434 Unrestricted Upload of File with Dange...</td>\n",
       "    </tr>\n",
       "    <tr>\n",
       "      <th>1880</th>\n",
       "      <td>CVE-2024-37634</td>\n",
       "      <td>adp</td>\n",
       "      <td>134c704f-9b21-4f2e-91b3-4a467353bcc0</td>\n",
       "      <td>CISA-ADP</td>\n",
       "      <td>2024-06-13T20:21:11.912Z</td>\n",
       "      <td>TOTOLINK A3700R V9.1.2u.6165_20211012 was disc...</td>\n",
       "      <td>NaN</td>\n",
       "      <td>NaN</td>\n",
       "      <td>NaN</td>\n",
       "      <td>CWE-121</td>\n",
       "      <td>CWE-121 Stack-based Buffer Overflow</td>\n",
       "    </tr>\n",
       "    <tr>\n",
       "      <th>1881</th>\n",
       "      <td>CVE-2024-37535</td>\n",
       "      <td>adp</td>\n",
       "      <td>134c704f-9b21-4f2e-91b3-4a467353bcc0</td>\n",
       "      <td>CISA-ADP</td>\n",
       "      <td>2024-06-10T12:55:15.708Z</td>\n",
       "      <td>GNOME VTE before 0.76.3 allows an attacker to ...</td>\n",
       "      <td>NaN</td>\n",
       "      <td>NaN</td>\n",
       "      <td>NaN</td>\n",
       "      <td>CWE-400</td>\n",
       "      <td>CWE-400 Uncontrolled Resource Consumption</td>\n",
       "    </tr>\n",
       "    <tr>\n",
       "      <th>1882</th>\n",
       "      <td>CVE-2024-37019</td>\n",
       "      <td>adp</td>\n",
       "      <td>134c704f-9b21-4f2e-91b3-4a467353bcc0</td>\n",
       "      <td>CISA-ADP</td>\n",
       "      <td>2024-06-04T14:49:54.923Z</td>\n",
       "      <td>Northern.tech Mender Enterprise before 3.6.4 a...</td>\n",
       "      <td>NaN</td>\n",
       "      <td>NaN</td>\n",
       "      <td>NaN</td>\n",
       "      <td>CWE-287</td>\n",
       "      <td>CWE-287 Improper Authentication</td>\n",
       "    </tr>\n",
       "    <tr>\n",
       "      <th>1883</th>\n",
       "      <td>CVE-2024-41184</td>\n",
       "      <td>adp</td>\n",
       "      <td>134c704f-9b21-4f2e-91b3-4a467353bcc0</td>\n",
       "      <td>CISA-ADP</td>\n",
       "      <td>2024-07-18T13:47:06.929Z</td>\n",
       "      <td>In the vrrp_ipsets_handler handler (fglobal_pa...</td>\n",
       "      <td>NaN</td>\n",
       "      <td>NaN</td>\n",
       "      <td>NaN</td>\n",
       "      <td>CWE-190</td>\n",
       "      <td>CWE-190 Integer Overflow or Wraparound</td>\n",
       "    </tr>\n",
       "  </tbody>\n",
       "</table>\n",
       "<p>1884 rows × 11 columns</p>\n",
       "</div>"
      ],
      "text/plain": [
       "              cve_id Container            adp_providerMetadata_orgId  \\\n",
       "0     CVE-2021-35559       adp  134c704f-9b21-4f2e-91b3-4a467353bcc0   \n",
       "1     CVE-2021-26928       adp  134c704f-9b21-4f2e-91b3-4a467353bcc0   \n",
       "2     CVE-2021-26918       adp  134c704f-9b21-4f2e-91b3-4a467353bcc0   \n",
       "3     CVE-2021-34983       adp  134c704f-9b21-4f2e-91b3-4a467353bcc0   \n",
       "4     CVE-2021-33990       adp  134c704f-9b21-4f2e-91b3-4a467353bcc0   \n",
       "...              ...       ...                                   ...   \n",
       "1879  CVE-2024-37762       adp  134c704f-9b21-4f2e-91b3-4a467353bcc0   \n",
       "1880  CVE-2024-37634       adp  134c704f-9b21-4f2e-91b3-4a467353bcc0   \n",
       "1881  CVE-2024-37535       adp  134c704f-9b21-4f2e-91b3-4a467353bcc0   \n",
       "1882  CVE-2024-37019       adp  134c704f-9b21-4f2e-91b3-4a467353bcc0   \n",
       "1883  CVE-2024-41184       adp  134c704f-9b21-4f2e-91b3-4a467353bcc0   \n",
       "\n",
       "     adp_providerMetadata_shortName adp_providerMetadata_dateUpdated  \\\n",
       "0                          CISA-ADP         2024-06-25T16:05:50.566Z   \n",
       "1                          CISA-ADP         2024-05-01T15:18:46.280Z   \n",
       "2                          CISA-ADP         2024-05-01T15:09:54.735Z   \n",
       "3                          CISA-ADP         2024-05-08T15:08:02.757Z   \n",
       "4                          CISA-ADP         2024-07-12T15:32:38.330Z   \n",
       "...                             ...                              ...   \n",
       "1879                       CISA-ADP         2024-07-08T15:13:35.601Z   \n",
       "1880                       CISA-ADP         2024-06-13T20:21:11.912Z   \n",
       "1881                       CISA-ADP         2024-06-10T12:55:15.708Z   \n",
       "1882                       CISA-ADP         2024-06-04T14:49:54.923Z   \n",
       "1883                       CISA-ADP         2024-07-18T13:47:06.929Z   \n",
       "\n",
       "                                        CVE_Description  \\\n",
       "0     Vulnerability in the Java SE, Oracle GraalVM E...   \n",
       "1     BIRD through 2.0.7 does not provide functional...   \n",
       "2     The ProBot bot through 2021-02-08 for Discord ...   \n",
       "3     NETGEAR Multiple Routers httpd Missing Authent...   \n",
       "4     Liferay Portal 6.2.5 allows Command=FileUpload...   \n",
       "...                                                 ...   \n",
       "1879  MachForm up to version 21 is affected by an au...   \n",
       "1880  TOTOLINK A3700R V9.1.2u.6165_20211012 was disc...   \n",
       "1881  GNOME VTE before 0.76.3 allows an attacker to ...   \n",
       "1882  Northern.tech Mender Enterprise before 3.6.4 a...   \n",
       "1883  In the vrrp_ipsets_handler handler (fglobal_pa...   \n",
       "\n",
       "      cna_providerMetadata_orgId  cna_providerMetadata_shortName  \\\n",
       "0                            NaN                             NaN   \n",
       "1                            NaN                             NaN   \n",
       "2                            NaN                             NaN   \n",
       "3                            NaN                             NaN   \n",
       "4                            NaN                             NaN   \n",
       "...                          ...                             ...   \n",
       "1879                         NaN                             NaN   \n",
       "1880                         NaN                             NaN   \n",
       "1881                         NaN                             NaN   \n",
       "1882                         NaN                             NaN   \n",
       "1883                         NaN                             NaN   \n",
       "\n",
       "      cna_providerMetadata_dateUpdated   CWE_ID  \\\n",
       "0                                  NaN  CWE-400   \n",
       "1                                  NaN  CWE-306   \n",
       "2                                  NaN  CWE-434   \n",
       "3                                  NaN  CWE-120   \n",
       "4                                  NaN   CWE-78   \n",
       "...                                ...      ...   \n",
       "1879                               NaN  CWE-434   \n",
       "1880                               NaN  CWE-121   \n",
       "1881                               NaN  CWE-400   \n",
       "1882                               NaN  CWE-287   \n",
       "1883                               NaN  CWE-190   \n",
       "\n",
       "                                        CWE_Description  \n",
       "0             CWE-400 Uncontrolled Resource Consumption  \n",
       "1     CWE-306 Missing Authentication for Critical Fu...  \n",
       "2     CWE-434 Unrestricted Upload of File with Dange...  \n",
       "3     CWE-120 Buffer Copy without Checking Size of I...  \n",
       "4     CWE-78 Improper Neutralization of Special Elem...  \n",
       "...                                                 ...  \n",
       "1879  CWE-434 Unrestricted Upload of File with Dange...  \n",
       "1880                CWE-121 Stack-based Buffer Overflow  \n",
       "1881          CWE-400 Uncontrolled Resource Consumption  \n",
       "1882                    CWE-287 Improper Authentication  \n",
       "1883             CWE-190 Integer Overflow or Wraparound  \n",
       "\n",
       "[1884 rows x 11 columns]"
      ]
     },
     "execution_count": 5,
     "metadata": {},
     "output_type": "execute_result"
    }
   ],
   "source": [
    "#df=df[:20] # for test purposes take the first N rows only\n",
    "df"
   ]
  },
  {
   "cell_type": "code",
   "execution_count": 6,
   "metadata": {},
   "outputs": [
    {
     "name": "stderr",
     "output_type": "stream",
     "text": [
      "WARNING: All log messages before absl::InitializeLog() is called are written to STDERR\n",
      "I0000 00:00:1721515995.553497 1032758 config.cc:230] gRPC experiments enabled: call_status_override_on_cancellation, event_engine_dns, event_engine_listener, http2_stats_fix, monitoring_experiment, pick_first_new, trace_record_callops, work_serializer_clears_time_cache\n"
     ]
    }
   ],
   "source": [
    "# Set up LangChain for LLM interactions\n",
    "\n",
    "\n",
    "llms = {\n",
    "    \"claude\": ChatAnthropic(model=\"claude-3-sonnet-20240229\", temperature=0,   timeout=None, max_retries=2),\n",
    "    \"gemini\": ChatGoogleGenerativeAI(model=\"gemini-1.5-pro\", temperature=0,  timeout=None, max_retries=2, generation_config={\"response_mime_type\": \"application/json\"}),\n",
    "    #\"gpt-4o\": ChatOpenAI(model=\"gpt-4o\", temperature=0, response_format={ \"type\": \"json_object\" })\n",
    "}\n",
    "\n",
    "# Define the prompt\n",
    "# The Rationale string is last as it is most complex\n",
    "\n",
    "# Update the prompt template\n",
    "prompt_template = ChatPromptTemplate.from_messages([\n",
    "    (\"system\", \"You are a cybersecurity expert specializing in identifying Common Weakness Enumeration (CWE) IDs from CVE descriptions. Your goal is to analyze if you agree with the assigned CWE ID or not for multiple CVEs.\"),\n",
    "    (\"human\", \"\"\"\n",
    "    Analyze the following CVEs and their assigned CWE IDs:\n",
    "    \n",
    "    {cve_entries}\n",
    "    \n",
    "    For each CVE, output a JSON object containing the following information:\n",
    "    {{\n",
    "        \"Agree\": string, // \"Yes\" or \"No\"\n",
    "        \"Confidence\": float // a confidence score between 0 and 1\n",
    "        \"Rationale\": string, // Only if you do not Agree, provide a rationale why not\n",
    "    }}\n",
    "    \n",
    "    Respond with a JSON array containing an object for each CVE, in the same order as provided.\n",
    "    \"\"\")\n",
    "])\n",
    "\n",
    "# Update the output parser\n",
    "response_schemas = [\n",
    "    ResponseSchema(name=\"Agree\", description=\"Whether the model agrees with the assigned CWE ID\"),\n",
    "    ResponseSchema(name=\"Confidence\", description=\"Confidence score between 0 and 1\"),\n",
    "    ResponseSchema(name=\"Rationale\", description=\"Rationale for disagreement\")\n",
    "]\n",
    "#output_parser = StructuredOutputParser.from_response_schemas(response_schemas)\n"
   ]
  },
  {
   "cell_type": "code",
   "execution_count": 7,
   "metadata": {},
   "outputs": [
    {
     "name": "stderr",
     "output_type": "stream",
     "text": [
      "Processing CVE Batches:   1%|          | 1/189 [00:15<49:55, 15.93s/it]"
     ]
    },
    {
     "name": "stdout",
     "output_type": "stream",
     "text": [
      "Warning: Missing response for CVE CVE-2021-47242 (CWE CWE-667) from gemini\n",
      "Warning: Missing response for CVE CVE-2021-47259 (CWE CWE-416) from gemini\n"
     ]
    },
    {
     "name": "stderr",
     "output_type": "stream",
     "text": [
      "Processing CVE Batches:  10%|█         | 19/189 [01:57<13:40,  4.82s/it]"
     ]
    },
    {
     "name": "stdout",
     "output_type": "stream",
     "text": [
      "Warning: Missing response for CVE CVE-2018-4233 (CWE CWE-119) from claude\n"
     ]
    },
    {
     "name": "stderr",
     "output_type": "stream",
     "text": [
      "Processing CVE Batches:  17%|█▋        | 33/189 [03:23<14:41,  5.65s/it]"
     ]
    },
    {
     "name": "stdout",
     "output_type": "stream",
     "text": [
      "Error processing batch with gemini: Unable to parse response content\n"
     ]
    },
    {
     "name": "stderr",
     "output_type": "stream",
     "text": [
      "Processing CVE Batches:  18%|█▊        | 34/189 [03:28<14:31,  5.63s/it]"
     ]
    },
    {
     "name": "stdout",
     "output_type": "stream",
     "text": [
      "Warning: Missing response for CVE CVE-2023-38831 (CWE CWE-351) from claude\n",
      "Warning: Missing response for CVE CVE-2023-38296 (CWE CWE-200) from claude\n"
     ]
    },
    {
     "name": "stderr",
     "output_type": "stream",
     "text": [
      "Processing CVE Batches:  19%|█▉        | 36/189 [03:37<11:42,  4.59s/it]"
     ]
    },
    {
     "name": "stdout",
     "output_type": "stream",
     "text": [
      "Warning: Missing response for CVE CVE-2023-28270 (CWE CWE-863) from claude\n"
     ]
    },
    {
     "name": "stderr",
     "output_type": "stream",
     "text": [
      "Processing CVE Batches:  23%|██▎       | 43/189 [04:21<13:24,  5.51s/it]"
     ]
    },
    {
     "name": "stdout",
     "output_type": "stream",
     "text": [
      "Error processing batch with gemini: Unable to parse response content\n"
     ]
    },
    {
     "name": "stderr",
     "output_type": "stream",
     "text": [
      "Processing CVE Batches:  26%|██▋       | 50/189 [04:53<10:33,  4.56s/it]"
     ]
    },
    {
     "name": "stdout",
     "output_type": "stream",
     "text": [
      "Error processing batch with gemini: Unable to parse response content\n"
     ]
    },
    {
     "name": "stderr",
     "output_type": "stream",
     "text": [
      "Processing CVE Batches:  30%|███       | 57/189 [05:31<10:50,  4.93s/it]"
     ]
    },
    {
     "name": "stdout",
     "output_type": "stream",
     "text": [
      "Warning: Missing response for CVE CVE-2024-35854 (CWE CWE-416) from claude\n",
      "Warning: Missing response for CVE CVE-2024-35869 (CWE CWE-416) from claude\n"
     ]
    },
    {
     "name": "stderr",
     "output_type": "stream",
     "text": [
      "Processing CVE Batches:  31%|███       | 59/189 [05:43<11:12,  5.17s/it]"
     ]
    },
    {
     "name": "stdout",
     "output_type": "stream",
     "text": [
      "Error processing batch with gemini: Unable to parse response content\n"
     ]
    },
    {
     "name": "stderr",
     "output_type": "stream",
     "text": [
      "Processing CVE Batches:  34%|███▍      | 65/189 [06:12<08:56,  4.33s/it]"
     ]
    },
    {
     "name": "stdout",
     "output_type": "stream",
     "text": [
      "Warning: Missing response for CVE CVE-2024-3845 (CWE CWE-358) from claude\n"
     ]
    },
    {
     "name": "stderr",
     "output_type": "stream",
     "text": [
      "Processing CVE Batches:  35%|███▍      | 66/189 [06:23<12:56,  6.32s/it]"
     ]
    },
    {
     "name": "stdout",
     "output_type": "stream",
     "text": [
      "Warning: Missing response for CVE CVE-2024-26362 (CWE CWE-94) from gemini\n"
     ]
    },
    {
     "name": "stderr",
     "output_type": "stream",
     "text": [
      "Processing CVE Batches:  36%|███▌      | 68/189 [06:36<13:05,  6.50s/it]"
     ]
    },
    {
     "name": "stdout",
     "output_type": "stream",
     "text": [
      "Error processing batch with gemini: Expecting ',' delimiter: line 20 column 52 (char 1321)\n"
     ]
    },
    {
     "name": "stderr",
     "output_type": "stream",
     "text": [
      "Processing CVE Batches:  42%|████▏     | 79/189 [07:31<08:13,  4.49s/it]"
     ]
    },
    {
     "name": "stdout",
     "output_type": "stream",
     "text": [
      "Error processing batch with gemini: Expecting ',' delimiter: line 30 column 148 (char 1119)\n"
     ]
    },
    {
     "name": "stderr",
     "output_type": "stream",
     "text": [
      "Processing CVE Batches:  49%|████▉     | 93/189 [08:44<07:20,  4.59s/it]"
     ]
    },
    {
     "name": "stdout",
     "output_type": "stream",
     "text": [
      "Error processing batch with gemini: Unable to parse response content\n"
     ]
    },
    {
     "name": "stderr",
     "output_type": "stream",
     "text": [
      "Processing CVE Batches:  52%|█████▏    | 99/189 [09:13<06:03,  4.04s/it]"
     ]
    },
    {
     "name": "stdout",
     "output_type": "stream",
     "text": [
      "Error processing batch with gemini: Unable to parse response content\n"
     ]
    },
    {
     "name": "stderr",
     "output_type": "stream",
     "text": [
      "Processing CVE Batches:  56%|█████▌    | 106/189 [09:53<07:49,  5.65s/it]"
     ]
    },
    {
     "name": "stdout",
     "output_type": "stream",
     "text": [
      "Error processing batch with gemini: Unable to parse response content\n"
     ]
    },
    {
     "name": "stderr",
     "output_type": "stream",
     "text": [
      "Processing CVE Batches:  57%|█████▋    | 107/189 [10:03<09:17,  6.80s/it]"
     ]
    },
    {
     "name": "stdout",
     "output_type": "stream",
     "text": [
      "Error processing batch with gemini: Unable to parse response content\n"
     ]
    },
    {
     "name": "stderr",
     "output_type": "stream",
     "text": [
      "Processing CVE Batches:  60%|██████    | 114/189 [10:36<06:08,  4.91s/it]"
     ]
    },
    {
     "name": "stdout",
     "output_type": "stream",
     "text": [
      "Warning: Missing response for CVE CVE-2024-21054 (CWE CWE-121) from claude\n"
     ]
    },
    {
     "name": "stderr",
     "output_type": "stream",
     "text": [
      "Processing CVE Batches:  69%|██████▉   | 130/189 [12:09<06:42,  6.83s/it]"
     ]
    },
    {
     "name": "stdout",
     "output_type": "stream",
     "text": [
      "Error processing batch with gemini: Unable to parse response content\n"
     ]
    },
    {
     "name": "stderr",
     "output_type": "stream",
     "text": [
      "Processing CVE Batches:  76%|███████▌  | 143/189 [13:13<03:48,  4.97s/it]"
     ]
    },
    {
     "name": "stdout",
     "output_type": "stream",
     "text": [
      "Error processing batch with gemini: Unable to parse response content\n"
     ]
    },
    {
     "name": "stderr",
     "output_type": "stream",
     "text": [
      "Processing CVE Batches:  77%|███████▋  | 146/189 [13:32<04:02,  5.64s/it]"
     ]
    },
    {
     "name": "stdout",
     "output_type": "stream",
     "text": [
      "Error processing batch with gemini: Unable to parse response content\n"
     ]
    },
    {
     "name": "stderr",
     "output_type": "stream",
     "text": [
      "Processing CVE Batches:  90%|█████████ | 171/189 [15:43<01:37,  5.43s/it]"
     ]
    },
    {
     "name": "stdout",
     "output_type": "stream",
     "text": [
      "Error processing batch with gemini: Unable to parse response content\n"
     ]
    },
    {
     "name": "stderr",
     "output_type": "stream",
     "text": [
      "Processing CVE Batches:  92%|█████████▏| 174/189 [16:00<01:14,  4.98s/it]"
     ]
    },
    {
     "name": "stdout",
     "output_type": "stream",
     "text": [
      "Warning: Missing response for CVE CVE-2024-36459 (CWE CWE-93) from gemini\n"
     ]
    },
    {
     "name": "stderr",
     "output_type": "stream",
     "text": [
      "Processing CVE Batches:  93%|█████████▎| 175/189 [16:17<02:01,  8.70s/it]"
     ]
    },
    {
     "name": "stdout",
     "output_type": "stream",
     "text": [
      "Error processing batch with gemini: Unable to parse response content\n"
     ]
    },
    {
     "name": "stderr",
     "output_type": "stream",
     "text": [
      "Processing CVE Batches:  95%|█████████▍| 179/189 [16:39<01:10,  7.02s/it]"
     ]
    },
    {
     "name": "stdout",
     "output_type": "stream",
     "text": [
      "Warning: Missing response for CVE CVE-2024-36583 (CWE CWE-1321) from gemini\n"
     ]
    },
    {
     "name": "stderr",
     "output_type": "stream",
     "text": [
      "Processing CVE Batches: 100%|██████████| 189/189 [17:20<00:00,  5.51s/it]\n"
     ]
    }
   ],
   "source": [
    "def create_batch_prompt(batch, prompt_template):\n",
    "    cve_entries = []\n",
    "    for _, row in batch.iterrows():\n",
    "        cve_entry = f\"\"\"\n",
    "        CVE ID: {row['cve_id']}\n",
    "        CVE Description: {row['CVE_Description']}\n",
    "        Assigned CWE ID: {row['CWE_ID']}\n",
    "        \"\"\"\n",
    "        cve_entries.append(cve_entry)\n",
    "    \n",
    "    batch_prompt = prompt_template.format(cve_entries=\"\\n\\n\".join(cve_entries))\n",
    "    return batch_prompt\n",
    "\n",
    "def parse_response(response_content):\n",
    "    try:\n",
    "        # First, try to parse the content as JSON\n",
    "        parsed_responses = json.loads(response_content)\n",
    "    except json.JSONDecodeError:\n",
    "        # If JSON parsing fails, try to extract the JSON array from the text\n",
    "        start = response_content.find('[')\n",
    "        end = response_content.rfind(']') + 1\n",
    "        if start != -1 and end != -1:\n",
    "            json_str = response_content[start:end]\n",
    "            parsed_responses = json.loads(json_str)\n",
    "        else:\n",
    "            raise ValueError(\"Unable to parse response content\")\n",
    "    \n",
    "    # Ensure the parsed response is a list\n",
    "    if not isinstance(parsed_responses, list):\n",
    "        parsed_responses = [parsed_responses]\n",
    "    \n",
    "    return parsed_responses\n",
    "\n",
    "\n",
    "def process_cve_batch(batch, llms, prompt_template, response_dir):\n",
    "    batch_prompt = create_batch_prompt(batch, prompt_template)\n",
    "    results = []\n",
    "    responses = []\n",
    "    \n",
    "    for model_name, llm in llms.items():\n",
    "        try:\n",
    "            response = llm.invoke(batch_prompt)\n",
    "            parsed_responses = parse_response(response.content)\n",
    "            \n",
    "            # Save response to file\n",
    "            timestamp = datetime.now().strftime(\"%Y%m%d_%H%M%S\")\n",
    "            filename = f\"{model_name}_response_{timestamp}.json\"\n",
    "            filepath = os.path.join(response_dir, filename)\n",
    "            with open(filepath, 'w') as f:\n",
    "                json.dump({\n",
    "                    'model': model_name,\n",
    "                    'prompt': batch_prompt,\n",
    "                    'response': response.content,\n",
    "                    'parsed_responses': parsed_responses\n",
    "                }, f, indent=2)\n",
    "            \n",
    "            for i, (_, row) in enumerate(batch.iterrows()):\n",
    "                if i < len(parsed_responses):\n",
    "                    result = {\n",
    "                        'CVE ID': row['cve_id'],\n",
    "                        'CVE Description': row['CVE_Description'],\n",
    "                        'Assigned CWE ID': row['CWE_ID'],\n",
    "                        f'{model_name}_Agreement': parsed_responses[i]['Agree'],\n",
    "                        f'{model_name}_Confidence': parsed_responses[i]['Confidence'],\n",
    "                        f'{model_name}_Rationale': parsed_responses[i].get('Rationale', ''),\n",
    "                        f'{model_name}_ResponseFile': filename\n",
    "                    }\n",
    "                else:\n",
    "                    print(f\"Warning: Missing response for CVE {row['cve_id']} (CWE {row['CWE_ID']}) from {model_name}\")\n",
    "                    result = {\n",
    "                        'CVE ID': row['cve_id'],\n",
    "                        'CVE Description': row['CVE_Description'],\n",
    "                        'Assigned CWE ID': row['CWE_ID'],\n",
    "                        f'{model_name}_Agreement': '',\n",
    "                        f'{model_name}_Confidence': '',\n",
    "                        f'{model_name}_Rationale': '',\n",
    "                        f'{model_name}_ResponseFile': filename\n",
    "                    }\n",
    "                results.append(result)\n",
    "                responses.append(response)\n",
    "        except Exception as e:\n",
    "            print(f\"Error processing batch with {model_name}: {str(e)}\")\n",
    "            for _, row in batch.iterrows():\n",
    "                results.append({\n",
    "                    'CVE ID': row['cve_id'],\n",
    "                    'CVE Description': row['CVE_Description'],\n",
    "                    'Assigned CWE ID': row['CWE_ID'],\n",
    "                    f'{model_name}_Agreement': '',\n",
    "                    f'{model_name}_Confidence': '',\n",
    "                    f'{model_name}_Rationale': '',\n",
    "                    f'{model_name}_ResponseFile': ''\n",
    "                })\n",
    "    \n",
    "    return results, responses\n",
    "\n",
    "def process_cves_in_batches(df, llms, prompt_template, batch_size, max_workers=MAX_WORKERS, response_dir='responses'):\n",
    "    results = []\n",
    "    total_batches = (len(df) + batch_size - 1) // batch_size\n",
    "    \n",
    "    # Create response directory if it doesn't exist\n",
    "    os.makedirs(response_dir, exist_ok=True)\n",
    "    \n",
    "    with ThreadPoolExecutor(max_workers=max_workers) as executor:\n",
    "        future_to_batch = {\n",
    "            executor.submit(\n",
    "                process_cve_batch, \n",
    "                df.iloc[i:i+batch_size], \n",
    "                llms, \n",
    "                prompt_template, \n",
    "                response_dir\n",
    "            ): i for i in range(0, len(df), batch_size)\n",
    "        }\n",
    "        \n",
    "        for future in tqdm(as_completed(future_to_batch), total=total_batches, desc=\"Processing CVE Batches\"):\n",
    "            batch_results, _ = future.result()\n",
    "            results.extend(batch_results)\n",
    "    \n",
    "    return pd.DataFrame(results)\n",
    "\n",
    "# Usage\n",
    "results_df = process_cves_in_batches(df, llms, prompt_template, batch_size)"
   ]
  },
  {
   "cell_type": "code",
   "execution_count": 15,
   "metadata": {},
   "outputs": [
    {
     "data": {
      "text/html": [
       "<div>\n",
       "<style scoped>\n",
       "    .dataframe tbody tr th:only-of-type {\n",
       "        vertical-align: middle;\n",
       "    }\n",
       "\n",
       "    .dataframe tbody tr th {\n",
       "        vertical-align: top;\n",
       "    }\n",
       "\n",
       "    .dataframe thead th {\n",
       "        text-align: right;\n",
       "    }\n",
       "</style>\n",
       "<table border=\"1\" class=\"dataframe\">\n",
       "  <thead>\n",
       "    <tr style=\"text-align: right;\">\n",
       "      <th></th>\n",
       "      <th>CVE ID</th>\n",
       "      <th>CVE Description</th>\n",
       "      <th>Assigned CWE ID</th>\n",
       "      <th>claude_Agreement</th>\n",
       "      <th>claude_Confidence</th>\n",
       "      <th>claude_Rationale</th>\n",
       "      <th>claude_ResponseFile</th>\n",
       "      <th>gemini_Agreement</th>\n",
       "      <th>gemini_Confidence</th>\n",
       "      <th>gemini_Rationale</th>\n",
       "      <th>gemini_ResponseFile</th>\n",
       "    </tr>\n",
       "  </thead>\n",
       "  <tbody>\n",
       "    <tr>\n",
       "      <th>0</th>\n",
       "      <td>CVE-2021-47329</td>\n",
       "      <td>In the Linux kernel, the following vulnerabili...</td>\n",
       "      <td>CWE-400</td>\n",
       "      <td>Yes</td>\n",
       "      <td>0.9</td>\n",
       "      <td></td>\n",
       "      <td>claude_response_20240720_235323.json</td>\n",
       "      <td>NaN</td>\n",
       "      <td>NaN</td>\n",
       "      <td>NaN</td>\n",
       "      <td>NaN</td>\n",
       "    </tr>\n",
       "    <tr>\n",
       "      <th>1</th>\n",
       "      <td>CVE-2021-47368</td>\n",
       "      <td>In the Linux kernel, the following vulnerabili...</td>\n",
       "      <td>CWE-400</td>\n",
       "      <td>Yes</td>\n",
       "      <td>0.9</td>\n",
       "      <td></td>\n",
       "      <td>claude_response_20240720_235323.json</td>\n",
       "      <td>NaN</td>\n",
       "      <td>NaN</td>\n",
       "      <td>NaN</td>\n",
       "      <td>NaN</td>\n",
       "    </tr>\n",
       "    <tr>\n",
       "      <th>2</th>\n",
       "      <td>CVE-2021-47482</td>\n",
       "      <td>In the Linux kernel, the following vulnerabili...</td>\n",
       "      <td>CWE-544</td>\n",
       "      <td>Yes</td>\n",
       "      <td>0.8</td>\n",
       "      <td></td>\n",
       "      <td>claude_response_20240720_235323.json</td>\n",
       "      <td>NaN</td>\n",
       "      <td>NaN</td>\n",
       "      <td>NaN</td>\n",
       "      <td>NaN</td>\n",
       "    </tr>\n",
       "    <tr>\n",
       "      <th>3</th>\n",
       "      <td>CVE-2021-47371</td>\n",
       "      <td>In the Linux kernel, the following vulnerabili...</td>\n",
       "      <td>CWE-400</td>\n",
       "      <td>Yes</td>\n",
       "      <td>0.9</td>\n",
       "      <td></td>\n",
       "      <td>claude_response_20240720_235323.json</td>\n",
       "      <td>NaN</td>\n",
       "      <td>NaN</td>\n",
       "      <td>NaN</td>\n",
       "      <td>NaN</td>\n",
       "    </tr>\n",
       "    <tr>\n",
       "      <th>4</th>\n",
       "      <td>CVE-2021-47238</td>\n",
       "      <td>In the Linux kernel, the following vulnerabili...</td>\n",
       "      <td>CWE-400</td>\n",
       "      <td>Yes</td>\n",
       "      <td>0.9</td>\n",
       "      <td></td>\n",
       "      <td>claude_response_20240720_235323.json</td>\n",
       "      <td>NaN</td>\n",
       "      <td>NaN</td>\n",
       "      <td>NaN</td>\n",
       "      <td>NaN</td>\n",
       "    </tr>\n",
       "    <tr>\n",
       "      <th>...</th>\n",
       "      <td>...</td>\n",
       "      <td>...</td>\n",
       "      <td>...</td>\n",
       "      <td>...</td>\n",
       "      <td>...</td>\n",
       "      <td>...</td>\n",
       "      <td>...</td>\n",
       "      <td>...</td>\n",
       "      <td>...</td>\n",
       "      <td>...</td>\n",
       "      <td>...</td>\n",
       "    </tr>\n",
       "    <tr>\n",
       "      <th>3763</th>\n",
       "      <td>CVE-2024-37764</td>\n",
       "      <td>MachForm up to version 19 is affected by an au...</td>\n",
       "      <td>CWE-79</td>\n",
       "      <td>NaN</td>\n",
       "      <td>NaN</td>\n",
       "      <td>NaN</td>\n",
       "      <td>NaN</td>\n",
       "      <td>Yes</td>\n",
       "      <td>0.95</td>\n",
       "      <td></td>\n",
       "      <td>gemini_response_20240721_001036.json</td>\n",
       "    </tr>\n",
       "    <tr>\n",
       "      <th>3764</th>\n",
       "      <td>CVE-2024-37622</td>\n",
       "      <td>Xinhu RockOA v2.6.3 was discovered to contain ...</td>\n",
       "      <td>CWE-79</td>\n",
       "      <td>NaN</td>\n",
       "      <td>NaN</td>\n",
       "      <td>NaN</td>\n",
       "      <td>NaN</td>\n",
       "      <td>Yes</td>\n",
       "      <td>0.95</td>\n",
       "      <td></td>\n",
       "      <td>gemini_response_20240721_001036.json</td>\n",
       "    </tr>\n",
       "    <tr>\n",
       "      <th>3765</th>\n",
       "      <td>CVE-2024-37643</td>\n",
       "      <td>TRENDnet TEW-814DAP v1_(FW1.01B01) was discove...</td>\n",
       "      <td>CWE-121</td>\n",
       "      <td>NaN</td>\n",
       "      <td>NaN</td>\n",
       "      <td>NaN</td>\n",
       "      <td>NaN</td>\n",
       "      <td>Yes</td>\n",
       "      <td>0.9</td>\n",
       "      <td></td>\n",
       "      <td>gemini_response_20240721_001036.json</td>\n",
       "    </tr>\n",
       "    <tr>\n",
       "      <th>3766</th>\n",
       "      <td>CVE-2024-37569</td>\n",
       "      <td>An issue was discovered on Mitel 6869i through...</td>\n",
       "      <td>CWE-77</td>\n",
       "      <td>NaN</td>\n",
       "      <td>NaN</td>\n",
       "      <td>NaN</td>\n",
       "      <td>NaN</td>\n",
       "      <td>Yes</td>\n",
       "      <td>0.95</td>\n",
       "      <td></td>\n",
       "      <td>gemini_response_20240721_001036.json</td>\n",
       "    </tr>\n",
       "    <tr>\n",
       "      <th>3767</th>\n",
       "      <td>CVE-2024-37762</td>\n",
       "      <td>MachForm up to version 21 is affected by an au...</td>\n",
       "      <td>CWE-434</td>\n",
       "      <td>NaN</td>\n",
       "      <td>NaN</td>\n",
       "      <td>NaN</td>\n",
       "      <td>NaN</td>\n",
       "      <td>Yes</td>\n",
       "      <td>0.9</td>\n",
       "      <td></td>\n",
       "      <td>gemini_response_20240721_001036.json</td>\n",
       "    </tr>\n",
       "  </tbody>\n",
       "</table>\n",
       "<p>3768 rows × 11 columns</p>\n",
       "</div>"
      ],
      "text/plain": [
       "              CVE ID                                    CVE Description  \\\n",
       "0     CVE-2021-47329  In the Linux kernel, the following vulnerabili...   \n",
       "1     CVE-2021-47368  In the Linux kernel, the following vulnerabili...   \n",
       "2     CVE-2021-47482  In the Linux kernel, the following vulnerabili...   \n",
       "3     CVE-2021-47371  In the Linux kernel, the following vulnerabili...   \n",
       "4     CVE-2021-47238  In the Linux kernel, the following vulnerabili...   \n",
       "...              ...                                                ...   \n",
       "3763  CVE-2024-37764  MachForm up to version 19 is affected by an au...   \n",
       "3764  CVE-2024-37622  Xinhu RockOA v2.6.3 was discovered to contain ...   \n",
       "3765  CVE-2024-37643  TRENDnet TEW-814DAP v1_(FW1.01B01) was discove...   \n",
       "3766  CVE-2024-37569  An issue was discovered on Mitel 6869i through...   \n",
       "3767  CVE-2024-37762  MachForm up to version 21 is affected by an au...   \n",
       "\n",
       "     Assigned CWE ID claude_Agreement claude_Confidence claude_Rationale  \\\n",
       "0            CWE-400              Yes               0.9                    \n",
       "1            CWE-400              Yes               0.9                    \n",
       "2            CWE-544              Yes               0.8                    \n",
       "3            CWE-400              Yes               0.9                    \n",
       "4            CWE-400              Yes               0.9                    \n",
       "...              ...              ...               ...              ...   \n",
       "3763          CWE-79              NaN               NaN              NaN   \n",
       "3764          CWE-79              NaN               NaN              NaN   \n",
       "3765         CWE-121              NaN               NaN              NaN   \n",
       "3766          CWE-77              NaN               NaN              NaN   \n",
       "3767         CWE-434              NaN               NaN              NaN   \n",
       "\n",
       "                       claude_ResponseFile gemini_Agreement gemini_Confidence  \\\n",
       "0     claude_response_20240720_235323.json              NaN               NaN   \n",
       "1     claude_response_20240720_235323.json              NaN               NaN   \n",
       "2     claude_response_20240720_235323.json              NaN               NaN   \n",
       "3     claude_response_20240720_235323.json              NaN               NaN   \n",
       "4     claude_response_20240720_235323.json              NaN               NaN   \n",
       "...                                    ...              ...               ...   \n",
       "3763                                   NaN              Yes              0.95   \n",
       "3764                                   NaN              Yes              0.95   \n",
       "3765                                   NaN              Yes               0.9   \n",
       "3766                                   NaN              Yes              0.95   \n",
       "3767                                   NaN              Yes               0.9   \n",
       "\n",
       "     gemini_Rationale                   gemini_ResponseFile  \n",
       "0                 NaN                                   NaN  \n",
       "1                 NaN                                   NaN  \n",
       "2                 NaN                                   NaN  \n",
       "3                 NaN                                   NaN  \n",
       "4                 NaN                                   NaN  \n",
       "...               ...                                   ...  \n",
       "3763                   gemini_response_20240721_001036.json  \n",
       "3764                   gemini_response_20240721_001036.json  \n",
       "3765                   gemini_response_20240721_001036.json  \n",
       "3766                   gemini_response_20240721_001036.json  \n",
       "3767                   gemini_response_20240721_001036.json  \n",
       "\n",
       "[3768 rows x 11 columns]"
      ]
     },
     "execution_count": 15,
     "metadata": {},
     "output_type": "execute_result"
    }
   ],
   "source": [
    "results_df"
   ]
  },
  {
   "cell_type": "markdown",
   "metadata": {},
   "source": [
    "def create_batch_prompt(batch, prompt_template):\n",
    "    cve_entries = []\n",
    "    for _, row in batch.iterrows():\n",
    "        cve_entry = f\"\"\"\n",
    "        CVE ID: {row['cve_id']}\n",
    "        CVE Description: {row['CVE_Description']}\n",
    "        Assigned CWE ID: {row['CWE_ID']}\n",
    "        \"\"\"\n",
    "        cve_entries.append(cve_entry)\n",
    "    \n",
    "    batch_prompt = prompt_template.format(cve_entries=\"\\n\\n\".join(cve_entries))\n",
    "    return batch_prompt\n",
    "\n",
    "def parse_response(response_content):\n",
    "    try:\n",
    "        # First, try to parse the content as JSON\n",
    "        parsed_responses = json.loads(response_content)\n",
    "    except json.JSONDecodeError:\n",
    "        # If JSON parsing fails, try to extract the JSON array from the text\n",
    "        start = response_content.find('[')\n",
    "        end = response_content.rfind(']') + 1\n",
    "        if start != -1 and end != -1:\n",
    "            json_str = response_content[start:end]\n",
    "            parsed_responses = json.loads(json_str)\n",
    "        else:\n",
    "            raise ValueError(\"Unable to parse response content\")\n",
    "    \n",
    "    # Ensure the parsed response is a list\n",
    "    if not isinstance(parsed_responses, list):\n",
    "        parsed_responses = [parsed_responses]\n",
    "    \n",
    "    return parsed_responses\n",
    "\n",
    "def process_cve_batch(batch, llms, prompt_template):\n",
    "    batch_prompt = create_batch_prompt(batch, prompt_template)\n",
    "    results = []\n",
    "    responses = []\n",
    "    \n",
    "    for model_name, llm in llms.items():\n",
    "        try:\n",
    "            response = llm.invoke(batch_prompt)\n",
    "            parsed_responses = parse_response(response.content)\n",
    "            \n",
    "            for i, (_, row) in enumerate(batch.iterrows()):\n",
    "                if i < len(parsed_responses):\n",
    "                    result = {\n",
    "                        'CVE ID': row['cve_id'],\n",
    "                        'CVE Description': row['CVE_Description'],\n",
    "                        'Assigned CWE ID': row['CWE_ID'],\n",
    "                        f'{model_name}_Agreement': parsed_responses[i]['Agree'],\n",
    "                        f'{model_name}_Confidence': parsed_responses[i]['Confidence'],\n",
    "                        f'{model_name}_Rationale': parsed_responses[i].get('Rationale', '')\n",
    "                    }\n",
    "                else:\n",
    "                    print(f\"Warning: Missing response for CVE-CWE {row['cve_id'], row['CWE_ID']} from {model_name}\")\n",
    "                    result = {\n",
    "                        'CVE ID': row['cve_id'],\n",
    "                        'CVE Description': row['CVE_Description'],\n",
    "                        'Assigned CWE ID': row['CWE_ID'],\n",
    "                        f'{model_name}_Agreement': '',\n",
    "                        f'{model_name}_Confidence': '',\n",
    "                        f'{model_name}_Rationale': ''\n",
    "                    }\n",
    "                results.append(result)\n",
    "                responses.append(response)\n",
    "        except Exception as e:\n",
    "            print(f\"Error processing batch with {model_name}: {str(e)}\")\n",
    "            for _, row in batch.iterrows():\n",
    "                results.append({\n",
    "                    'CVE ID': row['cve_id'],\n",
    "                    'CVE Description': row['CVE_Description'],\n",
    "                    'Assigned CWE ID': row['CWE_ID'],\n",
    "                    f'{model_name}_Agreement': '',\n",
    "                    f'{model_name}_Confidence': '',\n",
    "                    f'{model_name}_Rationale': ''\n",
    "                })\n",
    "    \n",
    "    return results, responses\n",
    "\n",
    "def process_cves_in_batches(df, llms, prompt_template, output_parser, batch_size, max_workers=MAX_WORKERS):\n",
    "    results = []\n",
    "    total_batches = (len(df) + batch_size - 1) // batch_size\n",
    "    \n",
    "    with ThreadPoolExecutor(max_workers=MAX_WORKERS) as executor:\n",
    "        future_to_batch = {\n",
    "            executor.submit(\n",
    "                process_cve_batch, \n",
    "                df.iloc[i:i+batch_size], \n",
    "                llms, \n",
    "                prompt_template, \n",
    "                output_parser\n",
    "            ): i for i in range(0, len(df), batch_size)\n",
    "        }\n",
    "        \n",
    "        for future in tqdm(as_completed(future_to_batch), total=total_batches, desc=\"Processing CVE Batches\"):\n",
    "            results.extend(future.result())\n",
    "    \n",
    "    return pd.DataFrame(results)\n",
    "\n",
    "# Usage remains the same\n",
    "results_df = process_cves_in_batches(df, llms, prompt_template, output_parser, batch_size)"
   ]
  },
  {
   "cell_type": "code",
   "execution_count": null,
   "metadata": {},
   "outputs": [],
   "source": []
  },
  {
   "cell_type": "code",
   "execution_count": 9,
   "metadata": {},
   "outputs": [],
   "source": [
    "#llms"
   ]
  },
  {
   "cell_type": "code",
   "execution_count": 16,
   "metadata": {},
   "outputs": [],
   "source": [
    "\n",
    "results_df.to_csv(llm_consensus_file_path, index=False, quoting=csv.QUOTE_ALL, escapechar='\\\\') # safe CSV"
   ]
  },
  {
   "cell_type": "code",
   "execution_count": 19,
   "metadata": {},
   "outputs": [
    {
     "data": {
      "text/plain": [
       "Yes    1608\n",
       "No      268\n",
       "          8\n",
       "Name: claude_Agreement, dtype: int64"
      ]
     },
     "execution_count": 19,
     "metadata": {},
     "output_type": "execute_result"
    }
   ],
   "source": [
    "results_df.claude_Agreement.value_counts()"
   ]
  },
  {
   "cell_type": "code",
   "execution_count": 21,
   "metadata": {},
   "outputs": [
    {
     "data": {
      "text/plain": [
       "Yes    1270\n",
       "No      459\n",
       "        155\n",
       "Name: gemini_Agreement, dtype: int64"
      ]
     },
     "execution_count": 21,
     "metadata": {},
     "output_type": "execute_result"
    }
   ],
   "source": [
    "results_df.gemini_Agreement.value_counts()"
   ]
  },
  {
   "cell_type": "code",
   "execution_count": 13,
   "metadata": {},
   "outputs": [],
   "source": [
    "#results_df['gpt-4_Agreement'].value_counts()"
   ]
  },
  {
   "cell_type": "markdown",
   "metadata": {},
   "source": []
  },
  {
   "cell_type": "markdown",
   "metadata": {},
   "source": []
  }
 ],
 "metadata": {
  "kernelspec": {
   "display_name": "Python 3",
   "language": "python",
   "name": "python3"
  },
  "language_info": {
   "codemirror_mode": {
    "name": "ipython",
    "version": 3
   },
   "file_extension": ".py",
   "mimetype": "text/x-python",
   "name": "python",
   "nbconvert_exporter": "python",
   "pygments_lexer": "ipython3",
   "version": "3.10.12"
  }
 },
 "nbformat": 4,
 "nbformat_minor": 2
}
